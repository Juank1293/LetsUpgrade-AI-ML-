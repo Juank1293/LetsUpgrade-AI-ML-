{
 "cells": [
  {
   "cell_type": "markdown",
   "metadata": {},
   "source": [
    "Question 1 :\n",
    "Write a Python program to find the first 20 non-even prime natural numbers."
   ]
  },
  {
   "cell_type": "code",
   "execution_count": 82,
   "metadata": {},
   "outputs": [
    {
     "name": "stdout",
     "output_type": "stream",
     "text": [
      "1 False\n",
      "2 None\n",
      "3 True\n",
      "4 False\n",
      "5 True\n",
      "6 False\n",
      "7 True\n",
      "8 False\n",
      "9 True\n",
      "10 False\n",
      "11 True\n",
      "12 False\n",
      "13 True\n",
      "14 False\n",
      "15 True\n",
      "16 False\n",
      "17 True\n",
      "18 False\n",
      "19 True\n",
      "20 False\n"
     ]
    }
   ],
   "source": [
    "#Prime number is only divisible by itself and 1\n",
    "#Return True if the n is a prime number\n",
    "def prime_number(n):\n",
    "    if n==1:\n",
    "        return False \n",
    "    for i in range (2,n):\n",
    "        if n%i==0:\n",
    "            return False\n",
    "        return True\n",
    "    \n",
    "for n in range (1,21):\n",
    "    print(n, prime_number(n))\n",
    "                    \n",
    "    "
   ]
  },
  {
   "cell_type": "markdown",
   "metadata": {},
   "source": [
    "Question 2 :\n",
    "Write a Python program to implement 15 functions of string."
   ]
  },
  {
   "cell_type": "code",
   "execution_count": 42,
   "metadata": {},
   "outputs": [
    {
     "name": "stdout",
     "output_type": "stream",
     "text": [
      "Juan\n",
      "n\n",
      "c\n",
      "uan\n",
      "juancarlos\n",
      "JUAN\n",
      "JUAN\n",
      "True\n",
      "True\n",
      "True\n",
      "False\n",
      "<class 'str'>\n",
      "1\n",
      "0\n",
      "jj\n",
      "Juan\n"
     ]
    }
   ],
   "source": [
    "a = \"juan\"\n",
    "b = \"carlos\"\n",
    "\n",
    "#Capitalizing the first letter\n",
    "c = a.capitalize()\n",
    "print(c)\n",
    "\n",
    "#printing the first letter and the last letter\n",
    "print(a[-1])\n",
    "print(b[0])\n",
    "\n",
    "#Slicing by parts\n",
    "print(a[1:4])\n",
    "\n",
    "#Concatenating\n",
    "d= a+b\n",
    "print(d)\n",
    "\n",
    "#Changing the initial string\n",
    "print(a.swapcase())\n",
    "\n",
    "#Turning the string into Caps\n",
    "print(a.upper())\n",
    "\n",
    "#Cecking if everything is alphabet letters\n",
    "print(a.isalpha())\n",
    "\n",
    "#Return True if all characters are ASCII\n",
    "print(a.isascii())\n",
    "\n",
    "#If the string is lower case it will return True\n",
    "print(a.islower())\n",
    "\n",
    "#If the string does not have space, it will return False\n",
    "print(a.isspace())\n",
    "\n",
    "#Showiing that the variable is a str\n",
    "print(type(a))\n",
    "\n",
    "#How many times letters appear in the string\n",
    "print(a.count(\"j\"))\n",
    "\n",
    "#The position of any letter into the string\n",
    "print(a.find(\"j\"))\n",
    "\n",
    "# Replacing the content of a text \n",
    "print(a.replace(\"juan\",\"jj\"))\n",
    "\n",
    "#The first letter of every str will be CAPS.\n",
    "print(a.title())"
   ]
  },
  {
   "cell_type": "markdown",
   "metadata": {},
   "source": [
    "Question 3:\n",
    "Write a Python program to check if the given string is a Palindrome or Anagram or None of them.\n",
    "Display the message accordingly to the user."
   ]
  },
  {
   "cell_type": "code",
   "execution_count": 78,
   "metadata": {},
   "outputs": [
    {
     "name": "stdout",
     "output_type": "stream",
     "text": [
      "Enter a string racecar\n",
      "Is this a palindrome? True\n"
     ]
    }
   ],
   "source": [
    "#Deciding if this is a palindrome\n",
    "\n",
    "def is_palindrome(a):\n",
    "    a=a.lower()\n",
    "    a=a.replace(\" \",\"\")\n",
    "    \n",
    "    return a == a[::-1]        \n",
    "    \n",
    "a= input(\"Enter a string \")\n",
    "print(\"Is this a palindrome?\",is_palindrome(a))\n",
    "\n",
    "\n",
    "\n"
   ]
  },
  {
   "cell_type": "code",
   "execution_count": 75,
   "metadata": {},
   "outputs": [
    {
     "name": "stdout",
     "output_type": "stream",
     "text": [
      "Enter a string heart\n",
      "Enter a string eath\n",
      "is this an anagram? False\n"
     ]
    }
   ],
   "source": [
    "#Deciding if this is an angram\n",
    "def is_anagram(a,b):\n",
    "    sorted_a=sorted(a)\n",
    "    sorted_b=sorted(b)\n",
    "    return sorted_a==sorted_b\n",
    "\n",
    "a= input(\"Enter a string \")\n",
    "b= input(\"Enter a string \")\n",
    "print(\"is this an anagram?\",is_anagram(a,b))\n",
    "\n"
   ]
  },
  {
   "cell_type": "markdown",
   "metadata": {},
   "source": [
    "Question 4:\n",
    "\n",
    "Write a Python user defined function that removes all the additional characters from the string and converts it finally to lower case using built-in lower().eg: If the string is \"Dr. Darshan Ingle\n",
    "@AI-ML Trainer\", then the output be \"drdarshaningleaimltrainer\"."
   ]
  },
  {
   "cell_type": "code",
   "execution_count": 68,
   "metadata": {},
   "outputs": [
    {
     "name": "stdout",
     "output_type": "stream",
     "text": [
      "Enter a text JUiabqs BHBIN H\n",
      "juiabqsbhbinh\n"
     ]
    }
   ],
   "source": [
    "import string\n",
    "\n",
    "def convert_string(a):\n",
    "    a=a.lower()\n",
    "    a=a.replace(\" \",\"\")\n",
    "    return a\n",
    "    \n",
    "a=input(\"Enter a text \")\n",
    "\n",
    "print(convert_string(a))"
   ]
  }
 ],
 "metadata": {
  "kernelspec": {
   "display_name": "Python 3",
   "language": "python",
   "name": "python3"
  },
  "language_info": {
   "codemirror_mode": {
    "name": "ipython",
    "version": 3
   },
   "file_extension": ".py",
   "mimetype": "text/x-python",
   "name": "python",
   "nbconvert_exporter": "python",
   "pygments_lexer": "ipython3",
   "version": "3.7.6"
  },
  "toc": {
   "base_numbering": 1,
   "nav_menu": {},
   "number_sections": true,
   "sideBar": true,
   "skip_h1_title": false,
   "title_cell": "Table of Contents",
   "title_sidebar": "Contents",
   "toc_cell": false,
   "toc_position": {},
   "toc_section_display": true,
   "toc_window_display": false
  }
 },
 "nbformat": 4,
 "nbformat_minor": 4
}
