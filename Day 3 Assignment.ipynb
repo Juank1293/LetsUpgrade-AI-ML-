{
 "cells": [
  {
   "cell_type": "markdown",
   "metadata": {},
   "source": [
    "Question 1 :\n",
    "Write a program to subtract two complex numbers in Python"
   ]
  },
  {
   "cell_type": "code",
   "execution_count": 1,
   "metadata": {},
   "outputs": [
    {
     "name": "stdout",
     "output_type": "stream",
     "text": [
      "the substraction of the complex numbers is (-3-3j)\n"
     ]
    }
   ],
   "source": [
    "a=2+3j\n",
    "b=5+6j\n",
    "c=a-b\n",
    "print(\"the substraction of the complex numbers is\", c)"
   ]
  },
  {
   "cell_type": "markdown",
   "metadata": {},
   "source": [
    "Question 2 :\n",
    "Write a program to find the fourth root of a number."
   ]
  },
  {
   "cell_type": "code",
   "execution_count": 6,
   "metadata": {},
   "outputs": [
    {
     "name": "stdout",
     "output_type": "stream",
     "text": [
      "Enter a number: 32\n",
      "the fourth root of the number is  2.378414230005442\n"
     ]
    }
   ],
   "source": [
    "a=int(input(\"Enter a number: \"))\n",
    "b=a**(1/4)\n",
    "print(\"the fourth root of the number is \",b)"
   ]
  },
  {
   "cell_type": "markdown",
   "metadata": {},
   "source": [
    "Question 3:\n",
    "Write a program to swap two numbers in Python with the help of a temporary variable.\n"
   ]
  },
  {
   "cell_type": "code",
   "execution_count": 14,
   "metadata": {},
   "outputs": [
    {
     "name": "stdout",
     "output_type": "stream",
     "text": [
      "Enter the value of a: 1\n",
      "Enter the value of b: 2\n",
      "The value of a after swapping:  2\n",
      "The value of b after swapping:  1\n"
     ]
    }
   ],
   "source": [
    "a=int(input(\"Enter the value of a: \"))\n",
    "b=int(input(\"Enter the value of b: \"))\n",
    "temp=a\n",
    "a=b\n",
    "b=temp\n",
    "print(\"The value of a after swapping: \", a)\n",
    "print(\"The value of b after swapping: \",b)"
   ]
  },
  {
   "cell_type": "markdown",
   "metadata": {},
   "source": [
    "Question 4:\n",
    "Write a program to swap two numbers in Python without using a temporary variable."
   ]
  },
  {
   "cell_type": "code",
   "execution_count": 16,
   "metadata": {},
   "outputs": [
    {
     "name": "stdout",
     "output_type": "stream",
     "text": [
      "Enter the value of a: 10\n",
      "Enter the value of b: 20\n",
      "The value of a after swapping:  20\n",
      "The value of b after swapping:  10\n"
     ]
    }
   ],
   "source": [
    "a=int(input(\"Enter the value of a: \"))\n",
    "b=int(input(\"Enter the value of b: \"))\n",
    "a,b=b,a\n",
    "print(\"The value of a after swapping: \", a)\n",
    "print(\"The value of b after swapping: \",b)"
   ]
  },
  {
   "cell_type": "markdown",
   "metadata": {},
   "source": [
    "Question 5:\n",
    "Write a program to convert fahrenheit to kelvin and celsius both"
   ]
  },
  {
   "cell_type": "code",
   "execution_count": 23,
   "metadata": {},
   "outputs": [
    {
     "name": "stdout",
     "output_type": "stream",
     "text": [
      "Enter temperature in farenheit 80\n",
      "The temperature in degree Celsius is  26.7\n"
     ]
    }
   ],
   "source": [
    "#Convert from farenheit to Celsius\n",
    "a=int(input(\"Enter temperature in farenheit \"))\n",
    "Celsius=(a-32)*(5/9)\n",
    "print(\"The temperature in degree Celsius is \",round(Celsius,1))\n"
   ]
  },
  {
   "cell_type": "code",
   "execution_count": 25,
   "metadata": {},
   "outputs": [
    {
     "name": "stdout",
     "output_type": "stream",
     "text": [
      "Enter temperature in farenheit 32\n",
      "The temperature in kelvin is  273.15\n"
     ]
    }
   ],
   "source": [
    "#Convert from farenheit to Kelvin\n",
    "a=int(input(\"Enter temperature in farenheit \"))\n",
    "kelvin=(a-32)*(5/9)+273.15\n",
    "print(\"The temperature in kelvin is \",round(kelvin,2))\n",
    "\n",
    "\n"
   ]
  },
  {
   "cell_type": "markdown",
   "metadata": {},
   "source": [
    "Question 6:\n",
    "Write a program to demonstrate all the available data types in Python. Hint: Use type() function."
   ]
  },
  {
   "cell_type": "code",
   "execution_count": 37,
   "metadata": {},
   "outputs": [
    {
     "name": "stdout",
     "output_type": "stream",
     "text": [
      "45 is type of  <class 'int'>\n",
      "23.4 is type of  <class 'float'>\n",
      "Juan is type of  <class 'str'>\n",
      "(1, 2, 3, 3, 4) is type of  <class 'tuple'>\n",
      "[1, 2, 3, 3, 4, 3] is type of  <class 'list'>\n"
     ]
    }
   ],
   "source": [
    "a = 45\n",
    "b=23.4\n",
    "c=\"Juan\"\n",
    "d=(1,2,3,3,4)\n",
    "e=[1,2,3,3,4,3]\n",
    "\n",
    "print(a,\"is type of \",type(a))\n",
    "print(b,\"is type of \",type(b))\n",
    "print(c,\"is type of \",type(c))\n",
    "print(d,\"is type of \",type(d))\n",
    "print(e,\"is type of \",type(e))"
   ]
  },
  {
   "cell_type": "markdown",
   "metadata": {},
   "source": [
    "Question 7:\n",
    "Create a Markdown cell in jupyter and list the steps discussed in the session by Dr. Darshan\n",
    "Ingle sir to create Github profile and upload Githubs Assignment link."
   ]
  },
  {
   "cell_type": "markdown",
   "metadata": {},
   "source": [
    "1. Create a Github public repo and name it LetsUpgrade AI/ML\n",
    "\n",
    "2. Upload the files/solution in the repo in day wise manner.\n",
    "\n",
    "3. Copy the URL of the Folder of that day and paste in the Assignment Submission Form (Google Form)\n",
    "\n",
    "4. Make sure you are filling correct details in the Assignment Submission Form.\n",
    "\n",
    "5. All the drop-downs will be available till the week end only. i.e Previous weeks drop-down will disappear on each Sunday 11:59 PM\n",
    "\n",
    "6. You have to submit all the assignment given during the weekdays by respective SUNDAY 11:59 PM IST."
   ]
  }
 ],
 "metadata": {
  "kernelspec": {
   "display_name": "Python 3",
   "language": "python",
   "name": "python3"
  },
  "language_info": {
   "codemirror_mode": {
    "name": "ipython",
    "version": 3
   },
   "file_extension": ".py",
   "mimetype": "text/x-python",
   "name": "python",
   "nbconvert_exporter": "python",
   "pygments_lexer": "ipython3",
   "version": "3.7.6"
  },
  "toc": {
   "base_numbering": 1,
   "nav_menu": {},
   "number_sections": true,
   "sideBar": true,
   "skip_h1_title": false,
   "title_cell": "Table of Contents",
   "title_sidebar": "Contents",
   "toc_cell": false,
   "toc_position": {},
   "toc_section_display": true,
   "toc_window_display": false
  }
 },
 "nbformat": 4,
 "nbformat_minor": 4
}
