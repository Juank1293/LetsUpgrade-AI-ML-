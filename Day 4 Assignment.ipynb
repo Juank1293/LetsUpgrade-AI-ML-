{
 "cells": [
  {
   "cell_type": "markdown",
   "metadata": {},
   "source": [
    "Question 1 :\n",
    "Research on whether addition, subtraction, multiplication, division, floor division and modulo\n",
    "operations be performed on complex numbers. Based on your study, implement a Python\n",
    "program to demonstrate these operations."
   ]
  },
  {
   "cell_type": "code",
   "execution_count": 5,
   "metadata": {},
   "outputs": [
    {
     "name": "stdout",
     "output_type": "stream",
     "text": [
      "the sum of a and b is  (9+15j)\n",
      "the substraction of a and b is  (-3+1j)\n",
      "the multiplication of a and b is  (-38+69j)\n",
      "the division of a and b is  (0.8705882352941177+0.3176470588235294j)\n"
     ]
    }
   ],
   "source": [
    "a = 3+8j\n",
    "b = 6+7j\n",
    "c = a+b\n",
    "print(\"the sum of a and b is \",c)\n",
    "d = a-b\n",
    "print(\"the substraction of a and b is \",d)\n",
    "e = a*b\n",
    "print(\"the multiplication of a and b is \",e)\n",
    "f = a/b\n",
    "print(\"the division of a and b is \",f)\n"
   ]
  },
  {
   "cell_type": "code",
   "execution_count": 8,
   "metadata": {},
   "outputs": [
    {
     "ename": "TypeError",
     "evalue": "can't take floor of complex number.",
     "output_type": "error",
     "traceback": [
      "\u001b[1;31m---------------------------------------------------------------------------\u001b[0m",
      "\u001b[1;31mTypeError\u001b[0m                                 Traceback (most recent call last)",
      "\u001b[1;32m<ipython-input-8-c8eb95338d67>\u001b[0m in \u001b[0;36m<module>\u001b[1;34m\u001b[0m\n\u001b[0;32m      1\u001b[0m \u001b[1;31m#In complex numbers floor division is not allowed, because it needs to be a real number to get less than or equal to some number.\u001b[0m\u001b[1;33m\u001b[0m\u001b[1;33m\u001b[0m\u001b[1;33m\u001b[0m\u001b[0m\n\u001b[1;32m----> 2\u001b[1;33m \u001b[0mg\u001b[0m \u001b[1;33m=\u001b[0m \u001b[0ma\u001b[0m\u001b[1;33m//\u001b[0m\u001b[0mb\u001b[0m\u001b[1;33m\u001b[0m\u001b[1;33m\u001b[0m\u001b[0m\n\u001b[0m",
      "\u001b[1;31mTypeError\u001b[0m: can't take floor of complex number."
     ]
    }
   ],
   "source": [
    "#In complex numbers floor division is not allowed, because it needs to be a real number to get less than or equal to some number.\n",
    "g = a//b\n"
   ]
  },
  {
   "cell_type": "code",
   "execution_count": 10,
   "metadata": {},
   "outputs": [
    {
     "name": "stdout",
     "output_type": "stream",
     "text": [
      "The modulus of  (3+8j) is  8.54400374531753\n"
     ]
    }
   ],
   "source": [
    "#Modulus is possible if we get the absolute value from the complex number\n",
    "h = abs(a)\n",
    "print(\"The modulus of \",a, \"is \",h)"
   ]
  },
  {
   "cell_type": "markdown",
   "metadata": {},
   "source": [
    "Question 2 :\n",
    "Research on range() functions and its parameters. Create a markdown cell and write in your own\n",
    "words (no copy-paste from google please) what you understand about it. Implement a small\n",
    "program of your choice on the same."
   ]
  },
  {
   "cell_type": "markdown",
   "metadata": {},
   "source": [
    "__Range Function__\n",
    "\n",
    "Range Function works with Loops not by itself. Furthermore, it will go from the starter value till the last value minus one.Starting to iterate in every single position for the range. It can be assigned the stepsize adding a third value in the parenthesis.\n"
   ]
  },
  {
   "cell_type": "code",
   "execution_count": 17,
   "metadata": {},
   "outputs": [
    {
     "name": "stdout",
     "output_type": "stream",
     "text": [
      "0\n",
      "1\n",
      "2\n",
      "3\n",
      "4\n",
      "5\n",
      "6\n",
      "7\n",
      "8\n",
      "9\n"
     ]
    }
   ],
   "source": [
    "for i in range(10):\n",
    "    print(i)\n",
    "        "
   ]
  },
  {
   "cell_type": "markdown",
   "metadata": {},
   "source": [
    "Question 3:\n",
    " Consider two numbers. Perform their subtraction and if the result of subtraction is greater than\n",
    "25, print their multiplication result else print their division result."
   ]
  },
  {
   "cell_type": "code",
   "execution_count": 23,
   "metadata": {},
   "outputs": [
    {
     "name": "stdout",
     "output_type": "stream",
     "text": [
      "Enter the first number: 90\n",
      "Enter the second number: 30\n",
      "The multiplication of the numbers are  2700\n"
     ]
    }
   ],
   "source": [
    "a = int(input(\"Enter the first number: \"))\n",
    "b = int(input(\"Enter the second number: \"))\n",
    "if (a-b)>25:\n",
    "    print(\"The multiplication of the numbers are \", (a*b))\n",
    "else:\n",
    "    print(\"The division of the numbers are \", (a/b))"
   ]
  },
  {
   "cell_type": "markdown",
   "metadata": {},
   "source": [
    "Question 4:\n",
    "Consider a list of 10 elements of integer values. If the number in the list is divisible by 2, print the\n",
    "result as \"square of that number minus 2\"."
   ]
  },
  {
   "cell_type": "code",
   "execution_count": 40,
   "metadata": {},
   "outputs": [
    {
     "name": "stdout",
     "output_type": "stream",
     "text": [
      "1.1622776601683795\n",
      "23 is not divisible by 2\n",
      "45 is not divisible by 2\n",
      "65 is not divisible by 2\n",
      "6.831760866327848\n",
      "67 is not divisible by 2\n",
      "7.3808315196468595\n",
      "65 is not divisible by 2\n",
      "4.782329983125268\n",
      "6.831760866327848\n"
     ]
    }
   ],
   "source": [
    "import math as m\n",
    "l = [10,23,45,65,78,67,88,65,46,78]\n",
    "for i in l:\n",
    "    if i%2==0:\n",
    "        print(m.sqrt(i)-2)\n",
    "    else:\n",
    "        print(i,\"is not divisible by 2\")\n",
    "    "
   ]
  },
  {
   "cell_type": "markdown",
   "metadata": {},
   "source": [
    "Question 5:\n",
    "Consider a list of 10 elements. Print all the elements in the list which are greater than 7 when that\n",
    "number is divided 2."
   ]
  },
  {
   "cell_type": "code",
   "execution_count": 41,
   "metadata": {},
   "outputs": [
    {
     "name": "stdout",
     "output_type": "stream",
     "text": [
      "23\n",
      "45\n",
      "65\n",
      "78\n",
      "67\n",
      "88\n",
      "65\n",
      "46\n",
      "78\n"
     ]
    }
   ],
   "source": [
    "l = [10,23,45,65,78,67,88,65,46,78]\n",
    "for i in l:\n",
    "    if (i/2)>7:\n",
    "        print(i)\n",
    "\n",
    "\n",
    "\n"
   ]
  }
 ],
 "metadata": {
  "kernelspec": {
   "display_name": "Python 3",
   "language": "python",
   "name": "python3"
  },
  "language_info": {
   "codemirror_mode": {
    "name": "ipython",
    "version": 3
   },
   "file_extension": ".py",
   "mimetype": "text/x-python",
   "name": "python",
   "nbconvert_exporter": "python",
   "pygments_lexer": "ipython3",
   "version": "3.7.6"
  },
  "toc": {
   "base_numbering": 1,
   "nav_menu": {},
   "number_sections": true,
   "sideBar": true,
   "skip_h1_title": false,
   "title_cell": "Table of Contents",
   "title_sidebar": "Contents",
   "toc_cell": false,
   "toc_position": {},
   "toc_section_display": true,
   "toc_window_display": false
  }
 },
 "nbformat": 4,
 "nbformat_minor": 4
}
